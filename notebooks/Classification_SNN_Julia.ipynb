{
 "cells": [
  {
   "cell_type": "code",
   "execution_count": null,
   "id": "659f588a",
   "metadata": {},
   "outputs": [],
   "source": [
    "using Printf: @printf\n",
    "using Random\n",
    "using Tullio\n",
    "using Statistics\n",
    "using LinearAlgebra\n",
    "using Distributions: Exponential\n",
    "using Flux\n",
    "using Plots\n",
    "using ProgressMeter"
   ]
  },
  {
   "cell_type": "code",
   "execution_count": null,
   "id": "03c1a357",
   "metadata": {},
   "outputs": [],
   "source": [
    "sigmoid(x::Number; thresh::Number=0., α::Number=1.) = 1. / (1 + exp(-α*(x-thresh)));\n",
    "heaviside(x::Number; thresh::Number=0.) = 0.5 * (1 + (x-thresh) / sqrt((x-thresh)^2));"
   ]
  },
  {
   "cell_type": "code",
   "execution_count": null,
   "id": "2745d5ce",
   "metadata": {},
   "outputs": [],
   "source": [
    "function simulate_SNN(τm::Number, τs::Number, Δt::Number, spikes_in::Array, w::Matrix)\n",
    "    α = exp(-Δt/τs)\n",
    "    β = exp(-Δt/τm)\n",
    "    n_batches, n_spikes_in, n_steps = size(spikes_in)\n",
    "    _, n_outputs = size(w)\n",
    "    @tullio I_inp[a,c,d] := spikes_in[a,b,d] * w[b,c]\n",
    "    I_syn  = zeros(batch_size, n_outputs, n_steps)\n",
    "    Vm     = zeros(size(I_syn))\n",
    "    for t in 1 : n_steps-1\n",
    "        I_syn[:, :, t+1] = α * I_syn[:, :, t] + I_inp[:, :, t]\n",
    "        Vm[:, :, t+1]    = β * Vm[:, :, t] + I_syn[:, :, t]\n",
    "    end\n",
    "\n",
    "    Vm\n",
    "end;"
   ]
  },
  {
   "cell_type": "code",
   "execution_count": null,
   "id": "fe2eaf7d",
   "metadata": {},
   "outputs": [],
   "source": [
    "function SNN_sim(tau_mem::Number, tau_syn::Number, dt::Number, spikes_in::Array, w::Matrix)\n",
    "    alpha = exp(-dt / tau_syn)\n",
    "    beta  = exp(-dt / tau_mem)\n",
    "    n_batches, n_spikes_in, n_steps = size(spikes_in)\n",
    "    n_outputs = size(w, 2)\n",
    "    I_syn_curr  = zeros(batch_size, n_outputs);\n",
    "    Vm_curr     = zeros(size(I_syn_curr));\n",
    "    Vm_acc      = zeros(size(Vm_curr));\n",
    "    @tullio I_inp[a,c,d] := spikes_in[a,b,d] * w[b,c]\n",
    "    for t in 1 : n_steps\n",
    "        Vm_acc = Vm_acc + Vm_curr\n",
    "        I_syn_next = alpha * I_syn_curr + I_inp[:, :, t]\n",
    "        Vm_next = beta * Vm_curr + I_syn_curr\n",
    "        I_syn_curr = I_syn_next\n",
    "        Vm_curr = Vm_next\n",
    "    end\n",
    "    Vm_acc ./ n_steps\n",
    "end;"
   ]
  },
  {
   "cell_type": "code",
   "execution_count": null,
   "id": "0525ff39",
   "metadata": {},
   "outputs": [],
   "source": [
    "function plot_traces(Vm; spikes=nothing, layout::Tuple=(3,5), spike_height::Number=5,\n",
    "        w::Number=150, h::Number=100)\n",
    "    n = prod(layout)\n",
    "    data = 1 .* Vm[1:n, :, :] # make a copy\n",
    "    if ! isnothing(spikes)\n",
    "        data[spikes[1:n,:,:] .== 1] .= spike_height\n",
    "    end\n",
    "    p = [plot(data[k,:,:]', axis=false) for k in 1:n]\n",
    "    plot!(p..., layout=layout, lw=1.5, axis=nothing, legend=nothing, size=(w*layout[2], h*layout[1]));\n",
    "end;"
   ]
  },
  {
   "cell_type": "code",
   "execution_count": null,
   "id": "35e62df5",
   "metadata": {},
   "outputs": [],
   "source": [
    "# neuron parameters\n",
    "tau_mem    = 10e-3\n",
    "tau_syn    = 5e-3\n",
    "# network parameters\n",
    "input_rate = 10 # [Hz]\n",
    "n_inputs   = 100\n",
    "n_outputs  = 2\n",
    "# simulation parameters\n",
    "tend       = 0.2\n",
    "dt         = 1e-3\n",
    "n_steps    = Int(tend / dt)\n",
    "# batch size\n",
    "batch_size = 32;"
   ]
  },
  {
   "cell_type": "code",
   "execution_count": null,
   "id": "91b6f4d4",
   "metadata": {},
   "outputs": [],
   "source": [
    "# for reproducibility\n",
    "rng = MersenneTwister(100);"
   ]
  },
  {
   "cell_type": "code",
   "execution_count": null,
   "id": "0d9d9e60",
   "metadata": {},
   "outputs": [],
   "source": [
    "scale = 10\n",
    "half_inputs = Int(n_inputs / 2)\n",
    "ISI = rand(Exponential(1/input_rate), (batch_size, half_inputs, Int(ceil(tend * input_rate))));\n",
    "spike_times_fast = cumsum(ISI, dims=3);\n",
    "ISI = rand(Exponential(scale/input_rate), (batch_size, half_inputs, Int(ceil(tend * input_rate / scale))));\n",
    "spike_times_slow = cumsum(ISI, dims=3);"
   ]
  },
  {
   "cell_type": "code",
   "execution_count": null,
   "id": "aac8cc68",
   "metadata": {},
   "outputs": [],
   "source": [
    "inputs = zeros(batch_size, n_inputs, n_steps)\n",
    "half_batches = Int(batch_size / 2)\n",
    "for i in 1 : batch_size\n",
    "    for j in 1 : half_inputs\n",
    "        idx_fast = Int.(ceil.(spike_times_fast[i,j,:] / dt))\n",
    "        idx_fast = idx_fast[idx_fast .<= n_steps]\n",
    "        idx_slow = Int.(ceil.(spike_times_slow[i,j,:] / dt))\n",
    "        idx_slow = idx_slow[idx_slow .<= n_steps]\n",
    "        if i <= half_batches\n",
    "            inputs[i, j, idx_fast] .= 1\n",
    "            inputs[i, j+half_inputs, idx_slow] .= 1\n",
    "        else\n",
    "            inputs[i, j, idx_slow] .= 1\n",
    "            inputs[i, j+half_inputs, idx_fast] .= 1\n",
    "        end\n",
    "    end\n",
    "end\n",
    "@printf(\"Total number of input spikes: %d.\", sum(inputs))"
   ]
  },
  {
   "cell_type": "code",
   "execution_count": null,
   "id": "96e1d9f7",
   "metadata": {},
   "outputs": [],
   "source": [
    "rows, cols = 4,3;\n",
    "idx = Int.(round.(range(1, batch_size, rows*cols)));\n",
    "p = [heatmap(1 .- inputs[i, :, :], color=:grays, title=\"Batch #\"*string(i)) for i in idx];\n",
    "for i in 1:cols:rows*cols\n",
    "    plot!(p[i], ylabel=\"Input #\");\n",
    "end\n",
    "for i in (rows-1)*cols+1:rows*cols\n",
    "    plot!(p[i], xlabel=\"Time\")\n",
    "end\n",
    "plot(p..., layout=(rows, cols), colorbar=nothing, size=(250*cols, 200*rows))"
   ]
  },
  {
   "cell_type": "code",
   "execution_count": null,
   "id": "9a8a28f3",
   "metadata": {},
   "outputs": [],
   "source": [
    "truth = ones(Int, batch_size)\n",
    "truth[1:half_batches] .= 2\n",
    "classes = unique(truth)\n",
    "y = Flux.onehotbatch(truth, classes)';"
   ]
  },
  {
   "cell_type": "code",
   "execution_count": null,
   "id": "9aa08ede",
   "metadata": {},
   "outputs": [],
   "source": [
    "weight_scale = 7 * (1 - exp(-dt/tau_mem));\n",
    "w = weight_scale / sqrt(n_inputs) * randn(rng, Float64, (n_inputs, n_outputs));"
   ]
  },
  {
   "cell_type": "code",
   "execution_count": null,
   "id": "664a47bb",
   "metadata": {},
   "outputs": [],
   "source": [
    "Vm = simulate_SNN(tau_mem, tau_syn, dt, inputs, w)\n",
    "y_hat = maximum(Vm, dims=3)[:,:,1]\n",
    "loss = Flux.logitcrossentropy(y_hat, y)\n",
    "@printf(\"Loss: %g.\", loss)"
   ]
  },
  {
   "cell_type": "code",
   "execution_count": null,
   "id": "5b17b04e",
   "metadata": {},
   "outputs": [],
   "source": [
    "plot_traces(Vm)"
   ]
  },
  {
   "cell_type": "code",
   "execution_count": null,
   "id": "8d7e10b1",
   "metadata": {},
   "outputs": [],
   "source": [
    "pars = Flux.Params([w])\n",
    "optimizer = Adam(2e-3, (0.9, 0.999)) # simple gradient descent\n",
    "loss = []\n",
    "@showprogress for epoch in 1:1_000\n",
    "    l,grads = Flux.withgradient(pars) do\n",
    "        y_hat = SNN_sim(tau_mem, tau_syn, dt, inputs, w)\n",
    "        Flux.logitcrossentropy(y_hat, y)\n",
    "    end\n",
    "    Flux.Optimise.update!(optimizer, pars, grads)\n",
    "    push!(loss, l)\n",
    "end"
   ]
  },
  {
   "cell_type": "code",
   "execution_count": null,
   "id": "46a77969",
   "metadata": {},
   "outputs": [],
   "source": [
    "plot(loss, lw=2, color=:black, xlabel=\"Epoch\", ylabel=\"Loss\", label=false, size=(400,250))"
   ]
  },
  {
   "cell_type": "code",
   "execution_count": null,
   "id": "ad4f1a36",
   "metadata": {},
   "outputs": [],
   "source": [
    "Vm = simulate_SNN(tau_mem, tau_syn, dt, inputs, w)\n",
    "y_hat = maximum(Vm, dims=3)[:,:,1]\n",
    "loss = Flux.logitcrossentropy(y_hat, y)\n",
    "@printf(\"Loss: %g.\", loss)"
   ]
  },
  {
   "cell_type": "code",
   "execution_count": null,
   "id": "34638481",
   "metadata": {},
   "outputs": [],
   "source": [
    "plot_traces(Vm)"
   ]
  }
 ],
 "metadata": {
  "kernelspec": {
   "display_name": "Julia 1.9.0-beta2",
   "language": "julia",
   "name": "julia-1.9"
  },
  "language_info": {
   "file_extension": ".jl",
   "mimetype": "application/julia",
   "name": "julia",
   "version": "1.9.0"
  }
 },
 "nbformat": 4,
 "nbformat_minor": 5
}
