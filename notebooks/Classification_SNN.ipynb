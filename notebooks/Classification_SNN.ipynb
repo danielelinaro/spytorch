{
 "cells": [
  {
   "cell_type": "code",
   "execution_count": null,
   "id": "a2f31cc2",
   "metadata": {},
   "outputs": [],
   "source": [
    "import os\n",
    "\n",
    "import numpy as np\n",
    "from numpy.random import RandomState, SeedSequence, MT19937\n",
    "from scipy.stats import expon\n",
    "\n",
    "import torch\n",
    "import torch.nn as nn\n",
    "\n",
    "from tqdm.notebook import tqdm\n",
    "\n",
    "import matplotlib.pyplot as plt\n",
    "from matplotlib.gridspec import GridSpec\n",
    "import seaborn as sns\n",
    "\n",
    "panel_w, panel_h = 2, 1.5"
   ]
  },
  {
   "cell_type": "code",
   "execution_count": null,
   "id": "7fad8150",
   "metadata": {},
   "outputs": [],
   "source": [
    "def plot_voltage_traces(mem, spk=None, dim=(4,4), spike_height=5):\n",
    "    rows,cols = dim\n",
    "    fig,ax = plt.subplots(rows, cols, figsize=(cols*panel_w, rows*panel_h), sharex=True, sharey=True)\n",
    "    if spk is not None:\n",
    "        dat = 1.0*mem\n",
    "        dat[spk>0.0] = spike_height\n",
    "        dat = dat.detach().cpu().numpy()\n",
    "    else:\n",
    "        dat = mem.detach().cpu().numpy()\n",
    "    idx = np.linspace(0, len(mem), rows*cols, endpoint=False, dtype=int)\n",
    "    for i in range(rows):\n",
    "        for j in range(cols):\n",
    "            k = i*dim[1] + j\n",
    "            ax[i,j].plot(dat[idx[k]], lw=1)\n",
    "            ax[i,j].grid(which='major', axis='y', lw=0.5, ls=':', color=[.6,.6,.6])\n",
    "            sns.despine()\n",
    "    return fig"
   ]
  },
  {
   "cell_type": "code",
   "execution_count": null,
   "id": "f2f7880d",
   "metadata": {},
   "outputs": [],
   "source": [
    "def plot_spikes(spikes, dim=(4,4)):\n",
    "    rows,cols = dim\n",
    "    idx = np.linspace(0, spikes.shape[0], rows*cols, endpoint=False, dtype=int)\n",
    "    fig,ax = plt.subplots(rows, cols, figsize=(cols*panel_w, rows*panel_h), sharex=True, sharey=True)\n",
    "    for i in range(rows):\n",
    "        for j in range(cols):\n",
    "            k = i*cols + j\n",
    "            ax[i][j].imshow(spikes[idx[k]], cmap=plt.cm.gray_r, aspect='auto')\n",
    "            sns.despine()\n",
    "    for a in ax[-1,:]:\n",
    "        a.set_xlabel('Time (ms)')\n",
    "    for a in ax[:,0]:\n",
    "        a.set_ylabel('Unit')\n",
    "    return fig"
   ]
  },
  {
   "cell_type": "code",
   "execution_count": null,
   "id": "d28a2b13",
   "metadata": {},
   "outputs": [],
   "source": [
    "def run_leaky_nn(inputs):\n",
    "    I_inp = torch.einsum('abc,bd->acd', (inputs, weights))\n",
    "    I_syn_curr = torch.zeros((batch_size, n_outputs), device=device, dtype=dtype)\n",
    "    Vm_curr = torch.zeros((batch_size, n_outputs), device=device, dtype=dtype)\n",
    "    Vm = []\n",
    "    for t in range(n_steps):\n",
    "        Vm.append(Vm_curr)\n",
    "        I_syn_next = alpha * I_syn_curr + I_inp[:,t,:]\n",
    "        Vm_next = beta * Vm_curr + I_syn_curr\n",
    "        I_syn_curr = I_syn_next\n",
    "        Vm_curr = Vm_next\n",
    "    Vm = torch.stack(Vm, dim=1)\n",
    "    return Vm"
   ]
  },
  {
   "cell_type": "code",
   "execution_count": null,
   "id": "1a2e8000",
   "metadata": {},
   "outputs": [],
   "source": [
    "def run_spiking_nn(inputs):\n",
    "    heaviside = lambda x, thresh=0.: 0.5 * (1 + (x-thresh) / torch.sqrt((x-thresh)**2))\n",
    "    I_inp = torch.einsum('abc,bd->acd', (inputs, weights))\n",
    "    I_syn_curr = torch.zeros((batch_size, n_outputs), device=device, dtype=dtype)\n",
    "    Vm_curr = torch.zeros((batch_size, n_outputs), device=device, dtype=dtype)\n",
    "    Vm = []\n",
    "    spikes = []\n",
    "    for t in range(n_steps):\n",
    "        out = heaviside(Vm_curr, 1.)\n",
    "        reset = out\n",
    "        I_syn_next = alpha * I_syn_curr + I_inp[:,t,:]\n",
    "        Vm_next = beta * Vm_curr + I_syn_curr - reset\n",
    "        Vm.append(Vm_curr)\n",
    "        spikes.append(out)\n",
    "        I_syn_curr = I_syn_next\n",
    "        Vm_curr = Vm_next\n",
    "    Vm = torch.stack(Vm, dim=1)\n",
    "    spikes = torch.stack(spikes, dim=1)\n",
    "    return Vm, spikes"
   ]
  },
  {
   "cell_type": "code",
   "execution_count": null,
   "id": "c8dda218",
   "metadata": {},
   "outputs": [],
   "source": [
    "# neuron parameters\n",
    "tau_mem    = 10e-3\n",
    "tau_syn    = 5e-3\n",
    "# network parameters\n",
    "input_rate = 10 # [Hz]\n",
    "n_inputs   = 512\n",
    "n_outputs  = 2\n",
    "# simulation parameters\n",
    "tend       = 0.2\n",
    "dt         = 1e-3\n",
    "n_steps    = int(tend / dt)\n",
    "# batch size\n",
    "batch_size = 256"
   ]
  },
  {
   "cell_type": "code",
   "execution_count": null,
   "id": "62ce40a9",
   "metadata": {},
   "outputs": [],
   "source": [
    "dtype = torch.float\n",
    "device = torch.device(\"cpu\")\n",
    "# Uncomment the line below to run on GPU\n",
    "# device = torch.device(\"cuda:0\") "
   ]
  },
  {
   "cell_type": "code",
   "execution_count": null,
   "id": "7ca62a2b",
   "metadata": {},
   "outputs": [],
   "source": [
    "scale = 10\n",
    "half_inputs = n_inputs // 2\n",
    "ISI = torch.zeros((batch_size, half_inputs, int(np.ceil(tend * input_rate))), dtype=dtype)\n",
    "ISI.exponential_(input_rate);\n",
    "spike_times_fast = torch.cumsum(ISI, dim=-1)\n",
    "ISI = torch.zeros((batch_size, half_inputs, int(np.ceil(tend * input_rate / scale))), dtype=dtype)\n",
    "ISI.exponential_(input_rate/scale)\n",
    "spike_times_slow = torch.cumsum(ISI, dim=-1)"
   ]
  },
  {
   "cell_type": "code",
   "execution_count": null,
   "id": "54786dac",
   "metadata": {},
   "outputs": [],
   "source": [
    "inputs = torch.zeros((batch_size, n_inputs, n_steps), dtype=torch.float)\n",
    "half_batches = batch_size // 2\n",
    "for i in range(batch_size):\n",
    "    for j in range(half_inputs):\n",
    "        idx_fast = torch.floor(spike_times_fast[i,j,:] / dt).long()\n",
    "        idx_fast = idx_fast[idx_fast < n_steps]\n",
    "        idx_slow = torch.floor(spike_times_slow[i,j,:] / dt).long()\n",
    "        idx_slow = idx_slow[idx_slow < n_steps]\n",
    "        if i < half_batches:\n",
    "            inputs[i, j, idx_fast] = 1\n",
    "            inputs[i, j+half_inputs, idx_slow] = 1\n",
    "        else:\n",
    "            inputs[i, j, idx_slow] = 1\n",
    "            inputs[i, j+half_inputs, idx_fast] = 1\n",
    "print(f'Total number of input spikes: {inputs.sum():.0f}.')"
   ]
  },
  {
   "cell_type": "code",
   "execution_count": null,
   "id": "02d381e5",
   "metadata": {},
   "outputs": [],
   "source": [
    "fig = plot_spikes(inputs)\n",
    "fig.tight_layout()"
   ]
  },
  {
   "cell_type": "code",
   "execution_count": null,
   "id": "1ba42feb",
   "metadata": {},
   "outputs": [],
   "source": [
    "truth = torch.zeros(batch_size, dtype=torch.long)\n",
    "truth[:half_batches] = 1\n",
    "classes = truth.unique()\n",
    "y = nn.functional.one_hot(truth, len(classes)).float()"
   ]
  },
  {
   "cell_type": "code",
   "execution_count": null,
   "id": "153724bb",
   "metadata": {},
   "outputs": [],
   "source": [
    "alpha   = float(np.exp(-dt/tau_syn))\n",
    "beta    = float(np.exp(-dt/tau_mem))\n",
    "weight_scale = 7 * (1 - beta)\n",
    "μ = 0\n",
    "weights = torch.empty((n_inputs, n_outputs), device=device, dtype=dtype, requires_grad=True)\n",
    "torch.nn.init.normal_(weights[:half_inputs, 0], mean=μ, std=weight_scale/np.sqrt(n_inputs))\n",
    "torch.nn.init.normal_(weights[half_inputs:, 0], mean=-μ, std=weight_scale/np.sqrt(n_inputs))\n",
    "torch.nn.init.normal_(weights[:half_inputs, 1], mean=-μ, std=weight_scale/np.sqrt(n_inputs))\n",
    "torch.nn.init.normal_(weights[half_inputs:, 1], mean=μ, std=weight_scale/np.sqrt(n_inputs));"
   ]
  },
  {
   "cell_type": "raw",
   "id": "097ac15e",
   "metadata": {},
   "source": [
    "Vm = run_leaky_nn(inputs)\n",
    "fig = plot_voltage_traces(Vm)\n",
    "fig.tight_layout()"
   ]
  },
  {
   "cell_type": "code",
   "execution_count": null,
   "id": "37fa9aeb",
   "metadata": {},
   "outputs": [],
   "source": [
    "Vm,spikes = run_spiking_nn(inputs)\n",
    "fig = plot_voltage_traces(Vm, spikes)\n",
    "fig.tight_layout()"
   ]
  },
  {
   "cell_type": "code",
   "execution_count": null,
   "id": "63ecbeb6",
   "metadata": {},
   "outputs": [],
   "source": [
    "output = torch.transpose(spikes, 1, 2).detach()\n",
    "fig = plot_spikes(output)\n",
    "fig.tight_layout()"
   ]
  },
  {
   "cell_type": "raw",
   "id": "6d21611b",
   "metadata": {},
   "source": [
    "Vm = run_leaky_nn(inputs)\n",
    "y_hat = Vm.mean(axis=1).softmax(dim=1)\n",
    "loss_fun = nn.CrossEntropyLoss()\n",
    "loss = loss_fun(y_hat, y)\n",
    "print(f'Loss: {loss:g}.')\n",
    "loss.backward()"
   ]
  },
  {
   "cell_type": "raw",
   "id": "60d21b48",
   "metadata": {},
   "source": [
    "Vm,spikes = run_spiking_nn(inputs)\n",
    "y_hat = spikes.sum(dim=1).softmax(dim=1)\n",
    "loss_fun = nn.CrossEntropyLoss()\n",
    "loss = loss_fun(y_hat, y)\n",
    "print(f'Loss: {loss:g}.')\n",
    "loss.backward()"
   ]
  },
  {
   "cell_type": "code",
   "execution_count": null,
   "id": "2da2e767",
   "metadata": {},
   "outputs": [],
   "source": [
    "optimizer = torch.optim.Adam([weights], lr=2e-3, betas=(0.9,0.999))\n",
    "loss_fun = nn.CrossEntropyLoss()\n",
    "loss_hist = []\n",
    "n_epochs = 500\n",
    "spiking = True\n",
    "for e in tqdm(range(n_epochs)):\n",
    "    if spiking:\n",
    "        _,spikes = run_spiking_nn(inputs)\n",
    "        output = spikes.sum(axis=1)\n",
    "    else:\n",
    "        Vm = run_leaky_nn(inputs) \n",
    "        output = Vm.mean(axis=1)\n",
    "    # compute the loss\n",
    "    y_hat = output.softmax(dim=1)\n",
    "    loss = loss_fun(y_hat, y)\n",
    "    # update the weights\n",
    "    optimizer.zero_grad()\n",
    "    loss.backward()\n",
    "    optimizer.step()\n",
    "    # store loss value\n",
    "    loss_hist.append(loss.item())"
   ]
  },
  {
   "cell_type": "code",
   "execution_count": null,
   "id": "afcdf521",
   "metadata": {},
   "outputs": [],
   "source": [
    "fig,ax = plt.subplots(1, 1, figsize=(4,3))\n",
    "ax.plot(loss_hist, color='k')\n",
    "ax.set_xlabel('Epoch')\n",
    "ax.set_ylabel('Loss')\n",
    "ax.grid(which='major', axis='y', lw=0.5, ls=':', color=[.6,.6,.6])\n",
    "sns.despine()\n",
    "fig.tight_layout()"
   ]
  },
  {
   "cell_type": "code",
   "execution_count": null,
   "id": "684e6fb2",
   "metadata": {},
   "outputs": [],
   "source": [
    "Vm,spikes = run_spiking_nn(inputs)\n",
    "fig = plot_voltage_traces(Vm, spikes)\n",
    "fig.tight_layout()"
   ]
  },
  {
   "cell_type": "code",
   "execution_count": null,
   "id": "c1325d2c",
   "metadata": {},
   "outputs": [],
   "source": [
    "output = torch.transpose(spikes, 1, 2).detach()\n",
    "fig = plot_spikes(output)\n",
    "fig.tight_layout()"
   ]
  }
 ],
 "metadata": {
  "kernelspec": {
   "display_name": "Python 3 (ipykernel)",
   "language": "python",
   "name": "python3"
  },
  "language_info": {
   "codemirror_mode": {
    "name": "ipython",
    "version": 3
   },
   "file_extension": ".py",
   "mimetype": "text/x-python",
   "name": "python",
   "nbconvert_exporter": "python",
   "pygments_lexer": "ipython3",
   "version": "3.10.8"
  }
 },
 "nbformat": 4,
 "nbformat_minor": 5
}
