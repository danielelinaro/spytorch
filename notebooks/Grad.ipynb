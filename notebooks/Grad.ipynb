{
 "cells": [
  {
   "cell_type": "code",
   "execution_count": 1,
   "id": "66c09230",
   "metadata": {},
   "outputs": [],
   "source": [
    "using Flux\n",
    "using Random\n",
    "using Statistics\n",
    "using Printf: @printf"
   ]
  },
  {
   "cell_type": "code",
   "execution_count": 2,
   "id": "101bace4",
   "metadata": {},
   "outputs": [],
   "source": [
    "relu(x::Number) = max(0, x)\n",
    "sigmoid(x::Number) = 1. / (1. + exp(-x));"
   ]
  },
  {
   "cell_type": "code",
   "execution_count": 3,
   "id": "83c03045",
   "metadata": {},
   "outputs": [],
   "source": [
    "# for reproducibility\n",
    "rng = MersenneTwister(1983);"
   ]
  },
  {
   "cell_type": "code",
   "execution_count": 4,
   "id": "248c4474",
   "metadata": {},
   "outputs": [],
   "source": [
    "batch_size = 64\n",
    "n_inputs = 100\n",
    "input = randn(batch_size, n_inputs);\n",
    "\n",
    "truth = zeros(batch_size)\n",
    "truth[rand(rng, Float64, batch_size) .> 0.5] .= 1\n",
    "classes = unique(truth)\n",
    "n_outputs = length(classes)\n",
    "\n",
    "n_hidden = 8\n",
    "w_ih = randn(rng, Float64, (n_inputs, n_hidden));\n",
    "w_ho = randn(rng, Float64, (n_hidden, n_outputs))\n",
    "\n",
    "y = Flux.onehotbatch(truth, classes)';"
   ]
  },
  {
   "cell_type": "code",
   "execution_count": 5,
   "id": "a6994b5b",
   "metadata": {},
   "outputs": [
    {
     "name": "stdout",
     "output_type": "stream",
     "text": [
      "Loss: 135.668."
     ]
    }
   ],
   "source": [
    "y_h = relu.(input * w_ih)\n",
    "y_hat = sigmoid.(y_h * w_ho)\n",
    "loss = Flux.logitcrossentropy(y_hat, y);\n",
    "@printf(\"Loss: %g.\", loss)"
   ]
  },
  {
   "cell_type": "code",
   "execution_count": 6,
   "id": "192e9ce9",
   "metadata": {},
   "outputs": [
    {
     "name": "stdout",
     "output_type": "stream",
     "text": [
      "Loss: 135.668."
     ]
    }
   ],
   "source": [
    "pars = Flux.Params([w_ih, w_ho])\n",
    "loss,grads = Flux.withgradient(pars) do\n",
    "    y_hid = relu.(input * w_ih)\n",
    "    y_hat = sigmoid.(y_hid * w_ho)\n",
    "    Flux.logitcrossentropy(y_hat, y)\n",
    "end\n",
    "@printf(\"Loss: %g.\", loss)"
   ]
  },
  {
   "cell_type": "code",
   "execution_count": 7,
   "id": "60b0dcfc",
   "metadata": {},
   "outputs": [
    {
     "name": "stdout",
     "output_type": "stream",
     "text": [
      "(100, 8)\n",
      "(8, 2)\n"
     ]
    }
   ],
   "source": [
    "for p in pars\n",
    "    println(size(grads[p]))\n",
    "end"
   ]
  }
 ],
 "metadata": {
  "kernelspec": {
   "display_name": "Julia 1.9.0-beta2",
   "language": "julia",
   "name": "julia-1.9"
  },
  "language_info": {
   "file_extension": ".jl",
   "mimetype": "application/julia",
   "name": "julia",
   "version": "1.9.0"
  }
 },
 "nbformat": 4,
 "nbformat_minor": 5
}
