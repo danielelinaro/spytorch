{
 "cells": [
  {
   "cell_type": "code",
   "execution_count": null,
   "id": "aa3091f7",
   "metadata": {},
   "outputs": [],
   "source": [
    "using Printf: @printf\n",
    "using Random\n",
    "using LinearAlgebra\n",
    "using ChainRulesCore\n",
    "using Zygote: pullback, gradient\n",
    "using Flux\n",
    "using ProgressMeter\n",
    "using Plots"
   ]
  },
  {
   "cell_type": "raw",
   "id": "fb3ed01c",
   "metadata": {},
   "source": [
    "heaviside(x::Number) = x > 0. ? 1. : 0.;\n",
    "@adjoint heaviside(x::Number) = heaviside(x), y -> Tuple(y / (1.0 + 100.0 * abs(x))^2);"
   ]
  },
  {
   "cell_type": "code",
   "execution_count": null,
   "id": "4ea219dc",
   "metadata": {},
   "outputs": [],
   "source": [
    "spike_fun(x) = x > 0. ? 1. : 0.\n",
    "function ChainRulesCore.rrule(::typeof(spike_fun), x)\n",
    "    retval = spike_fun(x)\n",
    "    pullback_spike_fun(y) = NoTangent(), y / (1.0 + 100.0 * abs(x))^2\n",
    "    return retval, pullback_spike_fun\n",
    "end"
   ]
  },
  {
   "cell_type": "code",
   "execution_count": null,
   "id": "2af56c6f",
   "metadata": {},
   "outputs": [],
   "source": [
    "N = 101\n",
    "x = range(-0.2, 0.2, N)\n",
    "\n",
    "use_withgradient = true\n",
    "use_gradient = true\n",
    "\n",
    "fun(x) = 2*x + spike_fun(x)\n",
    "\n",
    "if use_withgradient\n",
    "    y = zeros(size(x))\n",
    "    dy = zeros(size(x))\n",
    "    for i in 1:N\n",
    "        y[i],tmp = Flux.withgradient(fun, x[i])\n",
    "        dy[i] = tmp[1]\n",
    "    end\n",
    "elseif use_gradient\n",
    "    y = fun.(x)\n",
    "    dy = zeros(size(x))\n",
    "    for i in 1:N\n",
    "        dy[i] = gradient(fun, x[i])[1]\n",
    "    end\n",
    "else\n",
    "    y = zeros(size(x))\n",
    "    dy = zeros(size(x))\n",
    "    for i in 1:N\n",
    "        y[i],back = pullback(spike_fun, x[i])\n",
    "        dy[i] = back(1.)[1]\n",
    "    end\n",
    "end\n",
    "\n",
    "plot(x, y, color=:black, lw=2, label=nothing, size=(400,200))\n",
    "plot!(x, dy, color=:magenta, lw=2, label=nothing)"
   ]
  },
  {
   "cell_type": "code",
   "execution_count": null,
   "id": "378d1762",
   "metadata": {},
   "outputs": [],
   "source": [
    "rng = MersenneTwister(1983)\n",
    "N = 10\n",
    "w = randn(rng, Float64, N)\n",
    "x = zeros(Int, N)\n",
    "x[rand(rng, Float64, N) .> 0.5] .= 1\n",
    "y = 1;"
   ]
  },
  {
   "cell_type": "code",
   "execution_count": null,
   "id": "cc19e9a9",
   "metadata": {},
   "outputs": [],
   "source": [
    "@printf(\"Initial weights:\\n\")\n",
    "for ww in w\n",
    "    @printf(\"%g \", ww)\n",
    "end\n",
    "@printf(\"\\n\")"
   ]
  },
  {
   "cell_type": "code",
   "execution_count": null,
   "id": "eab05c94",
   "metadata": {},
   "outputs": [],
   "source": [
    "loss_fun(w, x, y) = (y - spike_fun(w'⋅x)) ^ 2\n",
    "loss_fun(w, x) = spike_fun(w'⋅x)"
   ]
  },
  {
   "cell_type": "code",
   "execution_count": null,
   "id": "f8fb108e",
   "metadata": {},
   "outputs": [],
   "source": [
    "η = 10\n",
    "optimizer = Flux.Descent(η)\n",
    "pars = Flux.Params([w])\n",
    "loss = []\n",
    "@showprogress for i in 1 : 1_000\n",
    "    l,grad = Flux.withgradient(pars) do\n",
    "        #loss_fun(w, x, y)\n",
    "        (y - loss_fun(w,x)) ^ 2\n",
    "    end\n",
    "    Flux.Optimise.update!(optimizer, pars, grad)\n",
    "    push!(loss, l)\n",
    "end"
   ]
  },
  {
   "cell_type": "code",
   "execution_count": null,
   "id": "583960bb",
   "metadata": {},
   "outputs": [],
   "source": [
    "@printf(\"Final weights:\\n\")\n",
    "for ww in w\n",
    "    @printf(\"%g \", ww)\n",
    "end\n",
    "@printf(\"\\n\")"
   ]
  },
  {
   "cell_type": "code",
   "execution_count": null,
   "id": "a130ab5c",
   "metadata": {},
   "outputs": [],
   "source": [
    "plot(loss, lw=3, color=:black, label=nothing, size=(400,250), xlabel=\"Epoch\", ylabel=\"Loss\")"
   ]
  }
 ],
 "metadata": {
  "kernelspec": {
   "display_name": "Julia 1.9.0-beta2",
   "language": "julia",
   "name": "julia-1.9"
  },
  "language_info": {
   "file_extension": ".jl",
   "mimetype": "application/julia",
   "name": "julia",
   "version": "1.9.0"
  }
 },
 "nbformat": 4,
 "nbformat_minor": 5
}
