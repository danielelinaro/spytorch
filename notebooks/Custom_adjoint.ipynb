{
 "cells": [
  {
   "cell_type": "code",
   "execution_count": null,
   "id": "aa3091f7",
   "metadata": {},
   "outputs": [],
   "source": [
    "using Printf: @printf\n",
    "using Random\n",
    "using LinearAlgebra\n",
    "using ChainRulesCore\n",
    "using Zygote: pullback, gradient\n",
    "using Flux\n",
    "using ProgressMeter\n",
    "using Plots"
   ]
  },
  {
   "cell_type": "code",
   "execution_count": null,
   "id": "4ea219dc",
   "metadata": {},
   "outputs": [],
   "source": [
    "spike_fun(x::Number) = x > 0. ? 1. : 0.\n",
    "spike_fun(x::AbstractArray{<:Number}) = spike_fun.(x)\n",
    "function ChainRulesCore.rrule(config::ChainRulesCore.RuleConfig{>:HasReverseMode},\n",
    "        ::typeof(spike_fun), x::Union{Number,AbstractArray{<:Number}})\n",
    "    retval = spike_fun(x)\n",
    "    pullback_spike_fun(y) = NoTangent(), y ./ (1.0 .+ 100.0 * abs.(x)).^2\n",
    "    return retval, pullback_spike_fun\n",
    "end"
   ]
  },
  {
   "cell_type": "code",
   "execution_count": null,
   "id": "07f3e2c2",
   "metadata": {},
   "outputs": [],
   "source": [
    "N = 101\n",
    "x = range(-0.2, 0.2, N)\n",
    "\n",
    "use_withgradient = true\n",
    "use_gradient = true\n",
    "\n",
    "fun(x) = 2*x + spike_fun(x)\n",
    "\n",
    "if use_withgradient\n",
    "    y = zeros(size(x))\n",
    "    dy = zeros(size(x))\n",
    "    for i in 1:N\n",
    "        y[i],tmp = Flux.withgradient(fun, x[i])\n",
    "        dy[i] = tmp[1]\n",
    "    end\n",
    "elseif use_gradient\n",
    "    y = fun.(x)\n",
    "    dy = zeros(size(x))\n",
    "    for i in 1:N\n",
    "        dy[i] = gradient(fun, x[i])[1]\n",
    "    end\n",
    "else\n",
    "    y = zeros(size(x))\n",
    "    dy = zeros(size(x))\n",
    "    for i in 1:N\n",
    "        y[i],back = pullback(spike_fun, x[i])\n",
    "        dy[i] = back(1.)[1]\n",
    "    end\n",
    "end\n",
    "\n",
    "plot(x, y, color=:black, lw=2, label=nothing, size=(400,200))\n",
    "plot!(x, dy, color=:magenta, lw=2, label=nothing)"
   ]
  },
  {
   "cell_type": "code",
   "execution_count": null,
   "id": "258e005b",
   "metadata": {},
   "outputs": [],
   "source": [
    "rng = MersenneTwister(1983)\n",
    "\n",
    "n_inputs = 10\n",
    "n_outputs = 2\n",
    "batch_size = 5\n",
    "w = randn(rng, Float64, (n_inputs, n_outputs))\n",
    "x = zeros(Int, (n_inputs, batch_size))\n",
    "x[rand(rng, Float64, size(x)) .> 0.5] .= 1\n",
    "\n",
    "truth = zeros(Int, batch_size)\n",
    "truth[rand(rng, Float64, size(truth)) .> 0.5] .= 1\n",
    "classes = unique(truth)\n",
    "y = Flux.onehotbatch(truth, classes)"
   ]
  },
  {
   "cell_type": "code",
   "execution_count": null,
   "id": "d5b2287d",
   "metadata": {},
   "outputs": [],
   "source": [
    "spike_fun(w'*x)"
   ]
  },
  {
   "cell_type": "code",
   "execution_count": null,
   "id": "91d33a6b",
   "metadata": {},
   "outputs": [],
   "source": [
    "@printf(\"Initial weights:\\n\\n\")\n",
    "for i in 1 : n_outputs\n",
    "    for j in 1 : n_inputs\n",
    "        @printf(\"%6.3f \", w[j,i])\n",
    "    end\n",
    "    @printf(\"\\n\")\n",
    "end\n",
    "@printf(\"\\n\")"
   ]
  },
  {
   "cell_type": "code",
   "execution_count": null,
   "id": "adcf17ba",
   "metadata": {},
   "outputs": [],
   "source": [
    "η, β = 1, (0.9, 0.8)\n",
    "optimizer = Flux.Adam(η, β)\n",
    "pars = Flux.Params([w])\n",
    "loss = []\n",
    "@showprogress for i in 1 : 1_000\n",
    "    l,grad = Flux.withgradient(pars) do\n",
    "        y_hat = spike_fun(w'*x)\n",
    "        Flux.logitcrossentropy(y_hat, y)\n",
    "    end\n",
    "    Flux.Optimise.update!(optimizer, pars, grad)\n",
    "    push!(loss, l)\n",
    "end"
   ]
  },
  {
   "cell_type": "code",
   "execution_count": null,
   "id": "fd2b318a",
   "metadata": {},
   "outputs": [],
   "source": [
    "@printf(\"Final weights:\\n\\n\")\n",
    "for i in 1 : n_outputs\n",
    "    for j in 1 : n_inputs\n",
    "        @printf(\"%6.3f \", w[j,i])\n",
    "    end\n",
    "    @printf(\"\\n\")\n",
    "end\n",
    "@printf(\"\\n\")"
   ]
  },
  {
   "cell_type": "code",
   "execution_count": null,
   "id": "ab4a3559",
   "metadata": {},
   "outputs": [],
   "source": [
    "plot(loss, lw=3, color=:black, label=nothing, size=(400,250), xlabel=\"Epoch\", ylabel=\"Loss\")"
   ]
  },
  {
   "cell_type": "code",
   "execution_count": null,
   "id": "f67d4d74",
   "metadata": {},
   "outputs": [],
   "source": [
    "y"
   ]
  },
  {
   "cell_type": "code",
   "execution_count": null,
   "id": "4852b63a",
   "metadata": {},
   "outputs": [],
   "source": [
    "spike_fun(w'*x)"
   ]
  }
 ],
 "metadata": {
  "kernelspec": {
   "display_name": "Julia 1.9.0-beta2",
   "language": "julia",
   "name": "julia-1.9"
  },
  "language_info": {
   "file_extension": ".jl",
   "mimetype": "application/julia",
   "name": "julia",
   "version": "1.9.0"
  }
 },
 "nbformat": 4,
 "nbformat_minor": 5
}
