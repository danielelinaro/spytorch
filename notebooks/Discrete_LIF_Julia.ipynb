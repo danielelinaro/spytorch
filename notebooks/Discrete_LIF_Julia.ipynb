{
 "cells": [
  {
   "cell_type": "code",
   "execution_count": null,
   "id": "5611206d",
   "metadata": {},
   "outputs": [],
   "source": [
    "using Printf: @printf\n",
    "using Random\n",
    "using Plots"
   ]
  },
  {
   "cell_type": "code",
   "execution_count": null,
   "id": "def5af69",
   "metadata": {},
   "outputs": [],
   "source": [
    "heaviside(x::Number; thresh::Number=0.) = x-thresh > 0 ? 1 : 0;"
   ]
  },
  {
   "cell_type": "code",
   "execution_count": null,
   "id": "28bb886a",
   "metadata": {},
   "outputs": [],
   "source": [
    "rng = MersenneTwister(100);"
   ]
  },
  {
   "cell_type": "code",
   "execution_count": null,
   "id": "7f531be9",
   "metadata": {},
   "outputs": [],
   "source": [
    "n_inputs = 100\n",
    "n_steps = 5000\n",
    "dt = 1e-3\n",
    "tend = n_steps * dt\n",
    "@printf(\"Simulation time: %g ms.\", tend * 1e3)"
   ]
  },
  {
   "cell_type": "code",
   "execution_count": null,
   "id": "5335dd13",
   "metadata": {},
   "outputs": [],
   "source": [
    "freq = 5 # [Hz]\n",
    "prob = freq * dt\n",
    "inputs = zeros(n_steps, n_inputs)\n",
    "inputs[rand(rng, Float64, size(inputs)) .< prob] .= 1;\n",
    "@printf(\"Total number of inputs spikes: %d.\", sum(inputs))"
   ]
  },
  {
   "cell_type": "code",
   "execution_count": null,
   "id": "d95bc368",
   "metadata": {},
   "outputs": [],
   "source": [
    "tau_mem = 10e-3\n",
    "tau_syn = 5e-3\n",
    "α       = exp(-dt / tau_syn)\n",
    "β       = exp(-dt / tau_mem);"
   ]
  },
  {
   "cell_type": "code",
   "execution_count": null,
   "id": "02497c33",
   "metadata": {},
   "outputs": [],
   "source": [
    "weight_scale = 7 * (1-β)\n",
    "weights = weight_scale / sqrt(n_inputs) * randn(rng, Float64, (n_inputs,));"
   ]
  },
  {
   "cell_type": "code",
   "execution_count": null,
   "id": "e5f58325",
   "metadata": {},
   "outputs": [],
   "source": [
    "Iinp  = inputs * weights\n",
    "Isyn  = zeros(n_steps)\n",
    "Vm    = zeros(n_steps)\n",
    "θ     = 1.\n",
    "n_spk = 0\n",
    "for t in 1 : n_steps-1\n",
    "    reset = heaviside(Vm[t], thresh=θ)\n",
    "    Isyn[t+1] = α * Isyn[t] + Iinp[t]\n",
    "    Vm[t+1]   = β * Vm[t] + Isyn[t] - reset\n",
    "    if reset > 0\n",
    "        n_spk += 1\n",
    "        @printf(\".\")\n",
    "        if n_spk % 100 == 0\n",
    "            @printf(\"\\n\")\n",
    "        end\n",
    "    end\n",
    "end\n",
    "Vm[Vm .> θ] .= 5θ;"
   ]
  },
  {
   "cell_type": "code",
   "execution_count": null,
   "id": "e215a1a8",
   "metadata": {},
   "outputs": [],
   "source": [
    "t = (1 : n_steps) * dt\n",
    "p1 = plot(t, Vm, color=:black, lw=1, label=\"\", ylabel=\"Vm\")\n",
    "p2 = plot(t, Isyn, color=:black, lw=1, label=\"\", ylabel=\"I_syn\")\n",
    "p3 = plot(t, Iinp, color=:black, lw=1, label=\"\", xlabel=\"Time (s)\", ylabel=\"I_inp\")\n",
    "plot(p1, p2, p3, layout=(3,1), size=(400,400))"
   ]
  }
 ],
 "metadata": {
  "kernelspec": {
   "display_name": "Julia 1.9.0-beta2",
   "language": "julia",
   "name": "julia-1.9"
  },
  "language_info": {
   "file_extension": ".jl",
   "mimetype": "application/julia",
   "name": "julia",
   "version": "1.9.0"
  }
 },
 "nbformat": 4,
 "nbformat_minor": 5
}
