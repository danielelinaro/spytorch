{
 "cells": [
  {
   "cell_type": "code",
   "execution_count": null,
   "id": "87912cc3",
   "metadata": {},
   "outputs": [],
   "source": [
    "using Printf: @printf\n",
    "using Random\n",
    "using Plots\n",
    "using Einsum\n",
    "using Statistics\n",
    "using Flux"
   ]
  },
  {
   "cell_type": "code",
   "execution_count": null,
   "id": "0a37fca1",
   "metadata": {},
   "outputs": [],
   "source": [
    "sigmoid(x::Number; thresh::Number=0., α::Number=1.) = 1. / (1 + exp(-α*(x-thresh)));\n",
    "heaviside(x::Number; thresh::Number=0.) = 0.5 * (1 + (x-thresh) / sqrt((x-thresh)^2));"
   ]
  },
  {
   "cell_type": "code",
   "execution_count": null,
   "id": "b0248632",
   "metadata": {},
   "outputs": [],
   "source": [
    "function plot_traces(Vm; spikes=nothing, layout::Tuple=(3,5), spike_height::Number=5,\n",
    "        w::Number=150, h::Number=100)\n",
    "    n = prod(layout)\n",
    "    data = 1 .* Vm[1:n, :, :] # make a copy\n",
    "    if ! isnothing(spikes)\n",
    "        data[spikes[1:n,:,:] .== 1] .= spike_height\n",
    "    end\n",
    "    p = [plot(data[k,:,:]', axis=false) for k in 1:n]\n",
    "    plot!(p..., layout=layout, lw=1.5, axis=nothing, legend=nothing, size=(w*layout[2], h*layout[1]));\n",
    "end;"
   ]
  },
  {
   "cell_type": "code",
   "execution_count": null,
   "id": "83c80a96",
   "metadata": {},
   "outputs": [],
   "source": [
    "function simulate_SNN(τm::Number, τs::Number, Δt::Number, spikes_in::Array,\n",
    "        w_ih::Matrix, w_ho::Matrix; θ::Number=1.)\n",
    "    α = exp(-Δt/τs)\n",
    "    β = exp(-Δt/τm)\n",
    "    n_batches, n_spikes_in, n_steps = size(spikes_in)\n",
    "    n_hidden, n_outputs = size(w_ho)\n",
    "    \n",
    "    # hidden layer\n",
    "    @einsum I_ih[a,c,d] := spikes_in[a,b,d] * w_ih[b,c]\n",
    "    I_syn_h  = zeros(batch_size, n_hidden, n_steps)\n",
    "    Vm_h     = zeros(size(I_syn_h))\n",
    "    spikes_h = zeros(size(I_syn_h))\n",
    "    for t in 1 : n_steps-1\n",
    "        spikes_h[:, :, t]  = heaviside.(Vm_h[:, :, t], thresh=θ)\n",
    "        I_syn_h[:, :, t+1] = α * I_syn_h[:, :, t] + I_ih[:, :, t]\n",
    "        Vm_h[:, :, t+1]    = β * Vm_h[:, :, t] + I_syn_h[:, :, t] - spikes_h[:, :, t]\n",
    "    end\n",
    "\n",
    "    # readout layer\n",
    "    @einsum I_ho[a,c,d] := spikes_h[a,b,d] * w_ho[b,c]\n",
    "    I_syn_o  = zeros(batch_size, n_outputs, n_steps)\n",
    "    Vm_o     = zeros(size(I_syn_o))\n",
    "    for t in 1 : n_steps-1\n",
    "        I_syn_o[:, :, t+1] = α * I_syn_o[:, :, t] + I_ho[:, :, t]\n",
    "        Vm_o[:, :, t+1]    = β * Vm_o[:, :, t] + I_syn_o[:, :, t]\n",
    "    end\n",
    "\n",
    "    Vm_o, Vm_h, spikes_h, I_syn_h, I_syn_o\n",
    "end;"
   ]
  },
  {
   "cell_type": "code",
   "execution_count": null,
   "id": "2bf33cde",
   "metadata": {},
   "outputs": [],
   "source": [
    "# neuron parameters\n",
    "tau_mem    = 10e-3\n",
    "tau_syn    = 5e-3\n",
    "# network parameters\n",
    "input_rate = 5 # [Hz]\n",
    "n_inputs   = 50\n",
    "n_hidden   = 4\n",
    "n_outputs  = 2\n",
    "# simulation parameters\n",
    "dt         = 1e-3\n",
    "n_steps    = 100\n",
    "# batch size\n",
    "batch_size = 64;"
   ]
  },
  {
   "cell_type": "code",
   "execution_count": null,
   "id": "8e25313f",
   "metadata": {},
   "outputs": [],
   "source": [
    "# for reproducibility\n",
    "rng = MersenneTwister(1983);"
   ]
  },
  {
   "cell_type": "code",
   "execution_count": null,
   "id": "24cda505",
   "metadata": {},
   "outputs": [],
   "source": [
    "prob = input_rate * dt\n",
    "inputs = zeros(batch_size, n_inputs, n_steps)\n",
    "inputs[rand(rng, Float64, size(inputs)) .< prob] .= 1;\n",
    "@printf(\"Total number of input spikes: %d.\", sum(inputs))"
   ]
  },
  {
   "cell_type": "code",
   "execution_count": null,
   "id": "1404f15b",
   "metadata": {},
   "outputs": [],
   "source": [
    "truth = rand(big.(1:n_outputs), batch_size)\n",
    "classes = unique(truth)\n",
    "y = Flux.onehotbatch(truth, classes)';"
   ]
  },
  {
   "cell_type": "code",
   "execution_count": null,
   "id": "b8d2f4c6",
   "metadata": {},
   "outputs": [],
   "source": [
    "weight_scale = 7 * (1 - exp(-dt/tau_mem));\n",
    "w_ih = weight_scale / sqrt(n_inputs) * randn(rng, Float64, (n_inputs, n_hidden));\n",
    "w_ho = weight_scale / sqrt(n_inputs) * randn(rng, Float64, (n_hidden, n_outputs));"
   ]
  },
  {
   "cell_type": "code",
   "execution_count": null,
   "id": "59171cf0",
   "metadata": {},
   "outputs": [],
   "source": [
    "Vm_o, Vm_h, spikes_h, I_syn_h, I_syn_o = simulate_SNN(tau_mem, tau_syn, dt, inputs, w_ih, w_ho; θ=1.);"
   ]
  },
  {
   "cell_type": "code",
   "execution_count": null,
   "id": "9864c4fe",
   "metadata": {},
   "outputs": [],
   "source": [
    "plot_traces(Vm_h, spikes=spikes_h, spike_height=5)"
   ]
  },
  {
   "cell_type": "code",
   "execution_count": null,
   "id": "efce5d28",
   "metadata": {},
   "outputs": [],
   "source": [
    "plot_traces(Vm_o)"
   ]
  },
  {
   "cell_type": "code",
   "execution_count": null,
   "id": "6a11805e",
   "metadata": {},
   "outputs": [],
   "source": [
    "y_hat = maximum(Vm_o, dims=3)[:,:,1]\n",
    "loss = Flux.logitcrossentropy(y_hat, y)\n",
    "@printf(\"Loss: %g.\", loss)"
   ]
  },
  {
   "cell_type": "code",
   "execution_count": null,
   "id": "2e652e42",
   "metadata": {},
   "outputs": [],
   "source": [
    "alpha     = exp(-dt / tau_mem)\n",
    "beta      = exp(-dt / tau_syn)\n",
    "I_syn_h   = zeros(batch_size, n_hidden, n_steps)\n",
    "Vm_h      = zeros(size(I_syn_h))\n",
    "spikes_h  = zeros(size(I_syn_h))\n",
    "I_syn_o   = zeros(batch_size, n_outputs, n_steps)\n",
    "Vm_o      = zeros(size(I_syn_o))\n",
    "\n",
    "pars = Flux.Params([w_ih, w_ho])\n",
    "\n",
    "loss,grads = Flux.withgradient(pars) do\n",
    "\n",
    "    # hidden layer\n",
    "    @einsum I_ih[a,c,d] := inputs[a,b,d] * w_ih[b,c]\n",
    "    for t in 1 : n_steps-1\n",
    "        spikes_h[:, :, t]  = heaviside.(Vm_h[:, :, t], thresh=1.)\n",
    "        I_syn_h[:, :, t+1] = alpha * I_syn_h[:, :, t] + I_ih[:, :, t]\n",
    "        Vm_h[:, :, t+1]    = beta * Vm_h[:, :, t] + I_syn_h[:, :, t] - spikes_h[:, :, t]\n",
    "    end\n",
    "\n",
    "    # readout layer\n",
    "    @einsum I_ho[a,c,d] := spikes_h[a,b,d] * w_ho[b,c]\n",
    "    for t in 1 : n_steps-1\n",
    "        I_syn_o[:, :, t+1] = alpha * I_syn_o[:, :, t] + I_ho[:, :, t]\n",
    "        Vm_o[:, :, t+1]    = beta * Vm_o[:, :, t] + I_syn_o[:, :, t]\n",
    "    end\n",
    "\n",
    "    y_hat = maximum(Vm_o, dims=3)[:,:,1]\n",
    "    Flux.logitcrossentropy(y_hat, y)\n",
    "\n",
    "end"
   ]
  }
 ],
 "metadata": {
  "kernelspec": {
   "display_name": "Julia 1.9.0-beta2",
   "language": "julia",
   "name": "julia-1.9"
  },
  "language_info": {
   "file_extension": ".jl",
   "mimetype": "application/julia",
   "name": "julia",
   "version": "1.9.0"
  }
 },
 "nbformat": 4,
 "nbformat_minor": 5
}
