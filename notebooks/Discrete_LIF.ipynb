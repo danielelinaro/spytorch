{
 "cells": [
  {
   "cell_type": "markdown",
   "id": "7a8973bd",
   "metadata": {},
   "source": [
    "This notebook implements a leaky integrate-and-fire neuron in discrete time suitable for usage in a spiking neural network"
   ]
  },
  {
   "cell_type": "code",
   "execution_count": null,
   "id": "84103a36",
   "metadata": {},
   "outputs": [],
   "source": [
    "import sys\n",
    "import numpy as np\n",
    "import matplotlib.pyplot as plt\n",
    "import seaborn as sns\n",
    "%matplotlib inline"
   ]
  },
  {
   "cell_type": "code",
   "execution_count": null,
   "id": "a367c80a",
   "metadata": {},
   "outputs": [],
   "source": [
    "def heaviside(x, thresh=1.):\n",
    "    out = np.zeros_like(x)\n",
    "    out[(x-thresh) > 0.] = 1.\n",
    "    return out"
   ]
  },
  {
   "cell_type": "code",
   "execution_count": null,
   "id": "1bfd29d5",
   "metadata": {},
   "outputs": [],
   "source": [
    "n_inputs = 100\n",
    "n_steps = 5000\n",
    "dt = 0.5e-3\n",
    "tend = n_steps * dt\n",
    "print(f'Simulation time: {tend*1e3:g} ms.')"
   ]
  },
  {
   "cell_type": "code",
   "execution_count": null,
   "id": "61d67599",
   "metadata": {},
   "outputs": [],
   "source": [
    "freq = 5 # [Hz]\n",
    "prob = freq * dt\n",
    "inputs = np.zeros((n_steps, n_inputs))\n",
    "inputs[np.random.uniform(size=inputs.shape) < prob] = 1\n",
    "print(f'Total number of input spikes: {inputs.sum()}.')"
   ]
  },
  {
   "cell_type": "code",
   "execution_count": null,
   "id": "423b3308",
   "metadata": {},
   "outputs": [],
   "source": [
    "tau_mem = 10e-3\n",
    "tau_syn = 5e-3\n",
    "alpha   = np.exp(-dt/tau_syn)\n",
    "beta    = np.exp(-dt/tau_mem)"
   ]
  },
  {
   "cell_type": "code",
   "execution_count": null,
   "id": "4c8dcd80",
   "metadata": {},
   "outputs": [],
   "source": [
    "weight_scale = 7 * (1.0-beta) # this should give us some spikes to begin with\n",
    "weights = np.random.normal(loc=0., scale=weight_scale/np.sqrt(n_inputs), size=(n_inputs,))"
   ]
  },
  {
   "cell_type": "code",
   "execution_count": null,
   "id": "8249b8a7",
   "metadata": {},
   "outputs": [],
   "source": [
    "Iinp = inputs @ weights\n",
    "Isyn = np.zeros(n_steps)\n",
    "Vm = np.zeros(n_steps)\n",
    "θ = 1.\n",
    "n_spikes = 0\n",
    "for t in range(n_steps-1):\n",
    "    reset = heaviside(Vm[t], θ)\n",
    "    Isyn[t+1] = alpha * Isyn[t] + Iinp[t]\n",
    "    # the following line is the one that originally appears in the first tutorial...\n",
    "    #Vm[t+1] = (beta * Vm[t] + Isyn[t]) * (θ - reset)\n",
    "    # while this one is what one would get from converting the LIF diff. eq. into a discrete equation\n",
    "    Vm[t+1] = beta * Vm[t] + Isyn[t] - reset\n",
    "    if reset > 0:\n",
    "        n_spikes += 1\n",
    "        sys.stdout.write('.')\n",
    "        if n_spikes % 100 == 0:\n",
    "            sys.stdout.write('\\n')\n",
    "Vm[Vm > θ] = 5*θ"
   ]
  },
  {
   "cell_type": "code",
   "execution_count": null,
   "id": "6c491055",
   "metadata": {},
   "outputs": [],
   "source": [
    "t = np.arange(n_steps) * dt\n",
    "fig,ax = plt.subplots(3, 1, figsize=(5,5), sharex=True)\n",
    "ax[0].plot(t, Vm, 'k', lw=1)\n",
    "ax[1].plot(t, Isyn, 'k', lw=1)\n",
    "ax[2].plot(t, Iinp, 'k', lw=1)\n",
    "for a in ax:\n",
    "    a.grid(which='major', axis='y', ls=':', lw=0.75, color=[.6,.6,.6])\n",
    "ax[0].set_ylabel('Vm')\n",
    "ax[1].set_ylabel('I_syn')\n",
    "ax[2].set_ylabel('I_inp')\n",
    "ax[-1].set_xlabel('Time (s)')\n",
    "sns.despine()\n",
    "fig.tight_layout()"
   ]
  }
 ],
 "metadata": {
  "kernelspec": {
   "display_name": "Python 3 (ipykernel)",
   "language": "python",
   "name": "python3"
  },
  "language_info": {
   "codemirror_mode": {
    "name": "ipython",
    "version": 3
   },
   "file_extension": ".py",
   "mimetype": "text/x-python",
   "name": "python",
   "nbconvert_exporter": "python",
   "pygments_lexer": "ipython3",
   "version": "3.10.8"
  }
 },
 "nbformat": 4,
 "nbformat_minor": 5
}
